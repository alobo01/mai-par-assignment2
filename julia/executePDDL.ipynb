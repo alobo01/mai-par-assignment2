{
 "cells": [
  {
   "cell_type": "code",
   "execution_count": 1,
   "id": "64040704-cb56-4002-8319-8f4d30cca5a6",
   "metadata": {},
   "outputs": [],
   "source": [
    "using Pkg;"
   ]
  },
  {
   "cell_type": "code",
   "execution_count": 2,
   "id": "990bc194-d2b8-4277-b58b-aa71e871ffcf",
   "metadata": {},
   "outputs": [
    {
     "name": "stderr",
     "output_type": "stream",
     "text": [
      "\u001b[32m\u001b[1m   Resolving\u001b[22m\u001b[39m package versions...\n",
      "\u001b[32m\u001b[1m  No Changes\u001b[22m\u001b[39m to `C:\\Users\\maric\\.julia\\environments\\v1.11\\Project.toml`\n",
      "\u001b[32m\u001b[1m  No Changes\u001b[22m\u001b[39m to `C:\\Users\\maric\\.julia\\environments\\v1.11\\Manifest.toml`\n",
      "\u001b[32m\u001b[1m   Resolving\u001b[22m\u001b[39m package versions...\n",
      "\u001b[32m\u001b[1m  No Changes\u001b[22m\u001b[39m to `C:\\Users\\maric\\.julia\\environments\\v1.11\\Project.toml`\n",
      "\u001b[32m\u001b[1m  No Changes\u001b[22m\u001b[39m to `C:\\Users\\maric\\.julia\\environments\\v1.11\\Manifest.toml`\n",
      "\u001b[32m\u001b[1m   Resolving\u001b[22m\u001b[39m package versions...\n",
      "\u001b[32m\u001b[1m  No Changes\u001b[22m\u001b[39m to `C:\\Users\\maric\\.julia\\environments\\v1.11\\Project.toml`\n",
      "\u001b[32m\u001b[1m  No Changes\u001b[22m\u001b[39m to `C:\\Users\\maric\\.julia\\environments\\v1.11\\Manifest.toml`\n",
      "\u001b[32m\u001b[1m   Resolving\u001b[22m\u001b[39m package versions...\n",
      "\u001b[32m\u001b[1m  No Changes\u001b[22m\u001b[39m to `C:\\Users\\maric\\.julia\\environments\\v1.11\\Project.toml`\n",
      "\u001b[32m\u001b[1m  No Changes\u001b[22m\u001b[39m to `C:\\Users\\maric\\.julia\\environments\\v1.11\\Manifest.toml`\n",
      "\u001b[32m\u001b[1m    Updating\u001b[22m\u001b[39m git-repo `https://github.com/JuliaPlanners/SymbolicPlanners.jl`\n",
      "\u001b[32m\u001b[1m   Resolving\u001b[22m\u001b[39m package versions...\n",
      "\u001b[32m\u001b[1m  No Changes\u001b[22m\u001b[39m to `C:\\Users\\maric\\.julia\\environments\\v1.11\\Project.toml`\n",
      "\u001b[32m\u001b[1m  No Changes\u001b[22m\u001b[39m to `C:\\Users\\maric\\.julia\\environments\\v1.11\\Manifest.toml`\n"
     ]
    }
   ],
   "source": [
    "FLAG = true;\n",
    "if ! @isdefined(PDDL) && FLAG\n",
    "    Pkg.add(\"PDDL\")\n",
    "    Pkg.add(\"PDDLViz\")\n",
    "    Pkg.add(\"GLMakie\")\n",
    "    Pkg.add(\"PlanningDomains\")\n",
    "    Pkg.add(url=\"https://github.com/JuliaPlanners/SymbolicPlanners.jl\")\n",
    "else\n",
    "    println(\"Skipped reinstallation\")\n",
    "end;"
   ]
  },
  {
   "cell_type": "code",
   "execution_count": 3,
   "id": "434b1b31-2481-4524-9639-55a4829d5306",
   "metadata": {},
   "outputs": [],
   "source": [
    "using PDDL, PlanningDomains, SymbolicPlanners"
   ]
  },
  {
   "cell_type": "markdown",
   "id": "02b385f8",
   "metadata": {},
   "source": [
    "The basic sushi problem"
   ]
  },
  {
   "cell_type": "code",
   "execution_count": 4,
   "id": "e3ae336e",
   "metadata": {},
   "outputs": [
    {
     "name": "stderr",
     "output_type": "stream",
     "text": [
      "\u001b[32m\u001b[1m   Resolving\u001b[22m\u001b[39m package versions...\n",
      "\u001b[32m\u001b[1m  No Changes\u001b[22m\u001b[39m to `C:\\Users\\maric\\.julia\\environments\\v1.11\\Project.toml`\n",
      "\u001b[32m\u001b[1m  No Changes\u001b[22m\u001b[39m to `C:\\Users\\maric\\.julia\\environments\\v1.11\\Manifest.toml`\n"
     ]
    }
   ],
   "source": [
    "Pkg.add(\"BenchmarkTools\")\n",
    "using BenchmarkTools  # For more precise time measurement (optional)"
   ]
  },
  {
   "cell_type": "code",
   "execution_count": null,
   "id": "e2ff3f83",
   "metadata": {},
   "outputs": [
    {
     "data": {
      "text/plain": [
       "PathSearchSolution{...}\n",
       "  status: :success\n",
       "  plan: 41-element Vector{Term}\n",
       "    (move robot1 ca pa)\n",
       "    (move robot1 pa mixa)\n",
       "    (move robot1 mixa sa)\n",
       "    (pick-up-ingredient robot1 rice sa)\n",
       "    (move robot1 sa mixa)\n",
       "    (drop-ingredient robot1 rice mixa)\n",
       "    (mix robot1 rice mixa)\n",
       "    ⋮\n",
       "    (move robot1 cta mixa)\n",
       "    (move robot1 mixa pa)\n",
       "    (drop-ingredient robot1 fish pa)\n",
       "    (assemble-dish robot1 sushi pa)\n",
       "    (carrying-dish robot1 sushi pa)\n",
       "    (move robot1 pa ca)\n",
       "    (move robot1 ca sva)\n",
       "    (plate-dish robot1 sushi sva)\n",
       "  trajectory: 42-element Vector{GenericState}\n",
       "  expanded: 33413\n",
       "  search_tree: Dict{UInt64, SymbolicPlanners.PathNode{GenericState}} with 34218 entries\n",
       "  search_frontier: DataStructures.PriorityQueue{UInt64, Tuple{Float32, Float32, Int64}, Base.Order.ForwardOrdering} with 833 entries\n",
       "  search_order: 33413-element Vector{UInt64}"
      ]
     },
     "metadata": {},
     "output_type": "display_data"
    }
   ],
   "source": [
    "a_domain = load_domain( \"sushi_simple_domain.pddl\" )\n",
    "a_problem = load_problem( \"sushi_simple_problem.pddl\" )\n",
    "initial = initstate(a_domain, a_problem)\n",
    "the_goals = MinStepsGoal( a_problem ) \n",
    "a_planner = AStarPlanner(HAddR())\n",
    "\n",
    "# Start total time measurement\n",
    "total_time = @elapsed begin\n",
    "    # Start search time measurement\n",
    "    search_time = @elapsed begin\n",
    "        solved = a_planner(a_domain, initial, the_goals)\n",
    "    end\n",
    "end\n",
    "\n",
    "solved"
   ]
  },
  {
   "cell_type": "code",
   "execution_count": 13,
   "id": "d63ed0f4",
   "metadata": {},
   "outputs": [
    {
     "name": "stdout",
     "output_type": "stream",
     "text": [
      "Search Time: 36.0221934\n",
      "Total Time: 36.0221938\n"
     ]
    }
   ],
   "source": [
    "# print the search time and total time\n",
    "println(\"Search Time: \", search_time)\n",
    "println(\"Total Time: \", total_time)\n",
    "\n",
    "# save the steps in a .txt\n",
    "open(\"sushi_simple.txt\", \"w\") do file\n",
    "    for s in collect(solved)\n",
    "        println(file, s)  \n",
    "    end\n",
    "end"
   ]
  },
  {
   "cell_type": "markdown",
   "id": "2c6804cd",
   "metadata": {},
   "source": [
    "The sushi problem with substitution (when one ingredient is missing it can be substitute by another one that is not used)"
   ]
  },
  {
   "cell_type": "code",
   "execution_count": 5,
   "id": "cba0ae2d",
   "metadata": {},
   "outputs": [
    {
     "data": {
      "text/plain": [
       "PathSearchSolution{...}\n",
       "  status: :success\n",
       "  plan: 42-element Vector{Term}\n",
       "    (move robot1 ca pa)\n",
       "    (move robot1 pa mixa)\n",
       "    (move robot1 mixa sa)\n",
       "    (pick-up-ingredient robot1 rice sa sushi)\n",
       "    (move robot1 sa mixa)\n",
       "    (drop-ingredient robot1 rice mixa)\n",
       "    (mix robot1 rice mixa)\n",
       "    ⋮\n",
       "    (move robot1 cta mixa)\n",
       "    (move robot1 mixa pa)\n",
       "    (drop-ingredient robot1 avocado pa)\n",
       "    (assemble-dish robot1 sushi pa)\n",
       "    (carrying-dish robot1 sushi pa)\n",
       "    (move robot1 pa ca)\n",
       "    (move robot1 ca sva)\n",
       "    (plate-dish robot1 sushi sva)\n",
       "  trajectory: 43-element Vector{GenericState}\n",
       "  expanded: 34710\n",
       "  search_tree: Dict{UInt64, SymbolicPlanners.PathNode{GenericState}} with 35541 entries\n",
       "  search_frontier: DataStructures.PriorityQueue{UInt64, Tuple{Float32, Float32, Int64}, Base.Order.ForwardOrdering} with 833 entries\n",
       "  search_order: 34710-element Vector{UInt64}"
      ]
     },
     "metadata": {},
     "output_type": "display_data"
    }
   ],
   "source": [
    "a_domain = load_domain( \"sushi_substitution_domain.pddl\" )\n",
    "a_problem = load_problem( \"sushi_substitution_problem.pddl\" )\n",
    "initial = initstate(a_domain, a_problem)\n",
    "the_goals = MinStepsGoal( a_problem ) \n",
    "a_planner = AStarPlanner(HAddR())\n",
    "\n",
    "# Start total time measurement\n",
    "total_time = @elapsed begin\n",
    "    # Start search time measurement\n",
    "    search_time = @elapsed begin\n",
    "        solved = a_planner(a_domain, initial, the_goals)\n",
    "    end\n",
    "end\n",
    "\n",
    "solved"
   ]
  },
  {
   "cell_type": "code",
   "execution_count": 6,
   "id": "d2ef30ec",
   "metadata": {},
   "outputs": [
    {
     "name": "stdout",
     "output_type": "stream",
     "text": [
      "Search Time: 58.560908\n",
      "Total Time: 58.5609156\n"
     ]
    }
   ],
   "source": [
    "# print the search time and total time\n",
    "println(\"Search Time: \", search_time)\n",
    "println(\"Total Time: \", total_time)\n",
    "\n",
    "# save the steps in a .txt\n",
    "open(\"sushi_substitution.txt\", \"w\") do file\n",
    "    for s in collect(solved)\n",
    "        println(file, s)  \n",
    "    end\n",
    "end"
   ]
  },
  {
   "cell_type": "markdown",
   "id": "8f96dca6",
   "metadata": {},
   "source": [
    "Three orders to be plated, priorization problem"
   ]
  },
  {
   "cell_type": "code",
   "execution_count": 19,
   "id": "3911b02e",
   "metadata": {},
   "outputs": [
    {
     "data": {
      "text/plain": [
       "PathSearchSolution{...}\n",
       "  status: :success\n",
       "  plan: 18-element Vector{Term}\n",
       "    (move robot1 sa mixa)\n",
       "    (move robot1 mixa pa)\n",
       "    (carrying-dish robot1 ramen pa)\n",
       "    (move robot1 pa ca)\n",
       "    (move robot1 ca sva)\n",
       "    (plate-dish robot1 ramen sva)\n",
       "    (move robot1 sva ca)\n",
       "    ⋮\n",
       "    (move robot1 ca sva)\n",
       "    (plate-dish robot1 sushi sva)\n",
       "    (move robot1 sva ca)\n",
       "    (move robot1 ca pa)\n",
       "    (carrying-dish robot1 pho pa)\n",
       "    (move robot1 pa ca)\n",
       "    (move robot1 ca sva)\n",
       "    (plate-dish robot1 pho sva)\n",
       "  trajectory: 19-element Vector{GenericState}\n",
       "  expanded: 2784\n",
       "  search_tree: Dict{UInt64, SymbolicPlanners.PathNode{GenericState}} with 2964 entries\n",
       "  search_frontier: DataStructures.PriorityQueue{UInt64, Tuple{Float32, Float32, Int64}, Base.Order.ForwardOrdering} with 180 entries\n",
       "  search_order: 2784-element Vector{UInt64}"
      ]
     },
     "metadata": {},
     "output_type": "display_data"
    }
   ],
   "source": [
    "a_domain = load_domain( \"fluents_priority_domain.pddl\" )\n",
    "a_problem = load_problem( \"fluents_priority_problem.pddl\" )\n",
    "initial = initstate(a_domain, a_problem)\n",
    "the_goals = MinStepsGoal( a_problem ) \n",
    "a_planner = AStarPlanner(HAddR())\n",
    "\n",
    "# Start total time measurement\n",
    "total_time = @elapsed begin\n",
    "    # Start search time measurement\n",
    "    search_time = @elapsed begin\n",
    "        solved = a_planner(a_domain, initial, the_goals)\n",
    "    end\n",
    "end\n",
    "\n",
    "solved"
   ]
  },
  {
   "cell_type": "code",
   "execution_count": 20,
   "id": "bb68343c",
   "metadata": {},
   "outputs": [
    {
     "name": "stdout",
     "output_type": "stream",
     "text": [
      "Search Time: 0.9147218\n",
      "Total Time: 0.9147222\n"
     ]
    }
   ],
   "source": [
    "# print the search time and total time\n",
    "println(\"Search Time: \", search_time)\n",
    "println(\"Total Time: \", total_time)\n",
    "\n",
    "# save the steps in a .txt\n",
    "open(\"priorization.txt\", \"w\") do file\n",
    "    for s in collect(solved)\n",
    "        println(file, s)  \n",
    "    end\n",
    "end"
   ]
  },
  {
   "cell_type": "code",
   "execution_count": 4,
   "id": "d8528291-7daf-4906-a1b3-47b1a50fe455",
   "metadata": {},
   "outputs": [
    {
     "ename": "UndefVarError",
     "evalue": "UndefVarError: `initial` not defined in `Main`\nSuggestion: check for spelling errors or missing imports.",
     "output_type": "error",
     "traceback": [
      "UndefVarError: `initial` not defined in `Main`\n",
      "Suggestion: check for spelling errors or missing imports.\n",
      "\n",
      "Stacktrace:\n",
      " [1] top-level scope\n",
      "   @ c:\\Users\\Pedro\\Documents\\MAI\\PAR\\lab2.2\\mai-par-assignment2\\julia\\jl_notebook_cell_df34fa98e69747e1a8f8a730347b8e2f_W3sZmlsZQ==.jl:1"
     ]
    }
   ],
   "source": [
    "compounds = initial.types\n",
    "items = [\"ingredient\", \"tool\", \"dish\"]\n",
    "items_instances = []\n",
    "locations_instances = []\n",
    "status_instances = []\n",
    "\n",
    "# Iterate over the Set and extract the type and value\n",
    "for compound in compounds\n",
    "    # Extract type and value by splitting at '(' and ')'\n",
    "    TYPE = compound.name\n",
    "    INSTANCE = compound.args[1].name # Julia arrays are 1-indexed, so args[2] refers to the second element\n",
    "    println(INSTANCE)\n",
    "\n",
    "    if TYPE in items\n",
    "        push!(items_instances, INSTANCE)\n",
    "    elseif TYPE == \"status\"\n",
    "        push!(status_instances, INSTANCE)\n",
    "    elseif TYPE == \"location\"\n",
    "        push!(locations_instances, INSTANCE)\n",
    "    end\n",
    "end\n",
    "\n",
    "all_combinations = [] # All combinations of the three extracted lists adding \":\" at the beginning of the string\n",
    "println(items_instances)\n",
    "# Generate all combinations\n",
    "for comb in Iterators.product(items_instances, status_instances, locations_instances)\n",
    "    println(comb)\n",
    "    comb_str = join(comb, \":\")\n",
    "    push!(all_combinations, comb_str)\n",
    "\n",
    "    # Check and update the initial values dictionary\n",
    "    if !haskey(initial.values[\"item-count\"], comb_str)\n",
    "        initial.values[\"item-count\"][comb_str] = 0\n",
    "    end\n",
    "end\n"
   ]
  },
  {
   "cell_type": "code",
   "execution_count": 5,
   "id": "dff90978-6913-4301-8c11-1a78b496116d",
   "metadata": {},
   "outputs": [
    {
     "ename": "UndefVarError",
     "evalue": "UndefVarError: `initial` not defined in `Main`\nSuggestion: check for spelling errors or missing imports.",
     "output_type": "error",
     "traceback": [
      "UndefVarError: `initial` not defined in `Main`\n",
      "Suggestion: check for spelling errors or missing imports.\n",
      "\n",
      "Stacktrace:\n",
      " [1] top-level scope\n",
      "   @ c:\\Users\\Pedro\\Documents\\MAI\\PAR\\lab2.2\\mai-par-assignment2\\julia\\jl_notebook_cell_df34fa98e69747e1a8f8a730347b8e2f_W4sZmlsZQ==.jl:1"
     ]
    }
   ],
   "source": [
    "compounds = initial.types\n",
    "items = [\"ingredient\", \"tool\", \"dish\"]\n",
    "items_instances = []\n",
    "locations_instances = []\n",
    "status_instances = []\n",
    "# Iterate over the Set and extract the type and value\n",
    "for compound in compounds\n",
    "    # Extract type and value by splitting at '(' and ')'\n",
    "    TYPE = compound.name\n",
    "    INSTANCE = compound.args[1].symbol\n",
    "    println(INSTANCE)\n",
    "    if TYPE in items\n",
    "        items_instances.append(value)\n",
    "    if TYPE==\"status\"\n",
    "        status_instances.append(value)\n",
    "    if TYPE==\"location\"\n",
    "        locations_instances.append(value)\n",
    "end\n",
    "all_combination = [] #All combinatiuons of the three stracted lists adding \":\" at the beggining of the string\n",
    "for comb in all_combinations\n",
    "    if not comb in initial.values[\"item-count\"]:\n",
    "        initial.values[\"item-count\"][comb] = 0\n",
    "        \n",
    "end"
   ]
  },
  {
   "cell_type": "code",
   "execution_count": 6,
   "id": "1b44da90-e342-497d-a62d-ca1316369db4",
   "metadata": {},
   "outputs": [
    {
     "ename": "UndefVarError",
     "evalue": "UndefVarError: `a_domain` not defined in `Main`\nSuggestion: check for spelling errors or missing imports.",
     "output_type": "error",
     "traceback": [
      "UndefVarError: `a_domain` not defined in `Main`\n",
      "Suggestion: check for spelling errors or missing imports.\n",
      "\n",
      "Stacktrace:\n",
      " [1] top-level scope\n",
      "   @ c:\\Users\\Pedro\\Documents\\MAI\\PAR\\lab2.2\\mai-par-assignment2\\julia\\jl_notebook_cell_df34fa98e69747e1a8f8a730347b8e2f_W5sZmlsZQ==.jl:1"
     ]
    }
   ],
   "source": [
    "initial = initstate(a_domain, a_problem)\n",
    "data = initial.values\n",
    "for (key, inner_dict) in data\n",
    "    println(\"Key: \", key)\n",
    "    println(\"Items:\")\n",
    "    for (inner_key_tuple, value) in inner_dict\n",
    "        println(\"  - Items: \", inner_key_tuple, typeof(inner_key_tuple), \" => Count: \", value)\n",
    "    end\n",
    "    println()  # Adding a newline for better readability\n",
    "end"
   ]
  },
  {
   "cell_type": "code",
   "execution_count": 18,
   "id": "3fccf994",
   "metadata": {},
   "outputs": [
    {
     "data": {
      "text/plain": [
       "PathSearchSolution{...}\n",
       "  status: :success\n",
       "  plan: 11-element Vector{Term}\n",
       "    (detect-missing-ingredient robot1 tomato kitchen pizza)\n",
       "    (move robot1 kitchen pantry)\n",
       "    (substitute-ingredient robot1 pizza tomato dough pantry)\n",
       "    (pick-up-ingredient robot1 cheese pantry)\n",
       "    (pick-up-ingredient robot1 tomato pantry)\n",
       "    (move robot1 pantry kitchen)\n",
       "    (prepare-ingredient robot1 tomato kitchen knife)\n",
       "    (prepare-ingredient robot1 cheese kitchen oven)\n",
       "    (move robot1 kitchen dining-room)\n",
       "    (assemble-dish robot1 pizza dining-room)\n",
       "    (execute-order robot1 pizza high dining-room)\n",
       "  trajectory: 12-element Vector{GenericState}\n",
       "  expanded: 2774\n",
       "  search_tree: Dict{UInt64, SymbolicPlanners.PathNode{GenericState}} with 3178 entries\n",
       "  search_frontier: DataStructures.PriorityQueue{UInt64, Tuple{Float32, Float32, Int64}, Base.Order.ForwardOrdering} with 404 entries\n",
       "  search_order: 2774-element Vector{UInt64}"
      ]
     },
     "metadata": {},
     "output_type": "display_data"
    }
   ],
   "source": [
    "a_domain = load_domain( \"claudio_domain.pddl\" )\n",
    "a_problem = load_problem( \"claudio_problem.pddl\" )\n",
    "initial = initstate(a_domain, a_problem)\n",
    "the_goals = MinStepsGoal( a_problem )\n",
    "a_planner = AStarPlanner(HAddR())\n",
    "solved = a_planner( a_domain, initial, the_goals)"
   ]
  },
  {
   "cell_type": "code",
   "execution_count": null,
   "id": "c8d9c35a-26a3-4eea-a35c-f6ea84a4e50a",
   "metadata": {},
   "outputs": [],
   "source": [
    "a_domain = load_domain( \"codigos/domain.pddl\" )\n",
    "a_problem = load_problem( \"codigos/problem.pddl\" )\n",
    "initial = initstate(a_domain, a_problem)\n",
    "the_goals = MinStepsGoal( a_problem )\n",
    "a_planner = AStarPlanner(HAddR())\n",
    "solved = a_planner( a_domain, initial, the_goals)"
   ]
  },
  {
   "cell_type": "code",
   "execution_count": 17,
   "id": "152e0c13-daec-4dcd-91d8-c8f81dd4b158",
   "metadata": {},
   "outputs": [],
   "source": [
    "# Open a file for writing\n",
    "open(\"tree.txt\", \"w\") do file\n",
    "    for node in solved.search_order\n",
    "        # Write each line to the file\n",
    "        println(file, \" \", solved.search_tree[node])\n",
    "        println(file, \"\\n\\n\")\n",
    "    end\n",
    "end"
   ]
  },
  {
   "cell_type": "code",
   "execution_count": 9,
   "id": "4534155b-5911-44c0-a0dd-04f555eb1a4b",
   "metadata": {},
   "outputs": [
    {
     "ename": "UndefVarError",
     "evalue": "UndefVarError: `solved` not defined in `Main`\nSuggestion: check for spelling errors or missing imports.",
     "output_type": "error",
     "traceback": [
      "UndefVarError: `solved` not defined in `Main`\n",
      "Suggestion: check for spelling errors or missing imports.\n",
      "\n",
      "Stacktrace:\n",
      " [1] top-level scope\n",
      "   @ c:\\Users\\Pedro\\Documents\\MAI\\PAR\\lab2.2\\mai-par-assignment2\\julia\\jl_notebook_cell_df34fa98e69747e1a8f8a730347b8e2f_X11sZmlsZQ==.jl:1"
     ]
    }
   ],
   "source": [
    "solved.search_tree"
   ]
  },
  {
   "cell_type": "code",
   "execution_count": 11,
   "id": "0730d5db-6588-4035-be65-d75ee48c9d3c",
   "metadata": {},
   "outputs": [
    {
     "ename": "UndefVarError",
     "evalue": "UndefVarError: `solved` not defined in `Main`\nSuggestion: check for spelling errors or missing imports.",
     "output_type": "error",
     "traceback": [
      "UndefVarError: `solved` not defined in `Main`\n",
      "Suggestion: check for spelling errors or missing imports.\n",
      "\n",
      "Stacktrace:\n",
      " [1] top-level scope\n",
      "   @ c:\\Users\\Pedro\\Documents\\MAI\\PAR\\lab2.2\\mai-par-assignment2\\julia\\jl_notebook_cell_df34fa98e69747e1a8f8a730347b8e2f_X13sZmlsZQ==.jl:1"
     ]
    }
   ],
   "source": [
    "for node in solved.search_order\n",
    "    println(\" \", solved.search_tree[node])\n",
    "    println(\"\\n\\n\")\n",
    "end;"
   ]
  },
  {
   "cell_type": "code",
   "execution_count": 12,
   "id": "762ea421-8f7a-4ca1-855a-6b2ae96c2f17",
   "metadata": {},
   "outputs": [
    {
     "ename": "UndefVarError",
     "evalue": "UndefVarError: `solved` not defined in `Main`\nSuggestion: check for spelling errors or missing imports.",
     "output_type": "error",
     "traceback": [
      "UndefVarError: `solved` not defined in `Main`\n",
      "Suggestion: check for spelling errors or missing imports.\n",
      "\n",
      "Stacktrace:\n",
      " [1] top-level scope\n",
      "   @ c:\\Users\\Pedro\\Documents\\MAI\\PAR\\lab2.2\\mai-par-assignment2\\julia\\jl_notebook_cell_df34fa98e69747e1a8f8a730347b8e2f_X14sZmlsZQ==.jl:1"
     ]
    }
   ],
   "source": [
    "for (index, node) in enumerate(solved.search_order)\n",
    "    current_node = solved.search_tree[node]\n",
    "    previous_node_ref = current_node.previous_ref\n",
    "    action_taken = previous_node_ref ? previous_node_ref.action : \"Root Node (No Action)\"\n",
    "    \n",
    "    println(\"Node $(index):\")\n",
    "    println(\"    ID: \", node)\n",
    "    println(\"    Previous Node: \", previous_node_ref ? previous_node_ref.id : \"None\")\n",
    "    println(\"    Action Taken: \", action_taken)\n",
    "    println(\"    State: \", current_node.state)\n",
    "    println(\"\\n\")\n",
    "end\n"
   ]
  },
  {
   "cell_type": "code",
   "execution_count": 13,
   "id": "f6fe8744-bd33-47d0-ad00-3cfa65b41334",
   "metadata": {},
   "outputs": [
    {
     "ename": "UndefVarError",
     "evalue": "UndefVarError: `solved` not defined in `Main`\nSuggestion: check for spelling errors or missing imports.",
     "output_type": "error",
     "traceback": [
      "UndefVarError: `solved` not defined in `Main`\n",
      "Suggestion: check for spelling errors or missing imports.\n",
      "\n",
      "Stacktrace:\n",
      " [1] top-level scope\n",
      "   @ c:\\Users\\Pedro\\Documents\\MAI\\PAR\\lab2.2\\mai-par-assignment2\\julia\\jl_notebook_cell_df34fa98e69747e1a8f8a730347b8e2f_X15sZmlsZQ==.jl:1"
     ]
    }
   ],
   "source": [
    "solved.search_tree[0x6e2e8f67bb9bd060]"
   ]
  },
  {
   "cell_type": "code",
   "execution_count": 14,
   "id": "5fe7792c-0b67-4dec-81a3-7564afc6492f",
   "metadata": {},
   "outputs": [
    {
     "ename": "UndefVarError",
     "evalue": "UndefVarError: `solved` not defined in `Main`\nSuggestion: check for spelling errors or missing imports.",
     "output_type": "error",
     "traceback": [
      "UndefVarError: `solved` not defined in `Main`\n",
      "Suggestion: check for spelling errors or missing imports.\n",
      "\n",
      "Stacktrace:\n",
      " [1] top-level scope\n",
      "   @ c:\\Users\\Pedro\\Documents\\MAI\\PAR\\lab2.2\\mai-par-assignment2\\julia\\jl_notebook_cell_df34fa98e69747e1a8f8a730347b8e2f_X16sZmlsZQ==.jl:1"
     ]
    }
   ],
   "source": [
    "println(\"Whole plan: (\", length(solved), \") steps\")\n",
    "for s in collect(solved)\n",
    "    println(\" \", s)\n",
    "end;"
   ]
  },
  {
   "cell_type": "code",
   "execution_count": 15,
   "id": "756aced4-8401-478d-a19a-c76b9e6f7590",
   "metadata": {},
   "outputs": [],
   "source": []
  }
 ],
 "metadata": {
  "kernelspec": {
   "display_name": "Julia 1.11.1",
   "language": "julia",
   "name": "julia-1.11"
  },
  "language_info": {
   "file_extension": ".jl",
   "mimetype": "application/julia",
   "name": "julia",
   "version": "1.11.1"
  }
 },
 "nbformat": 4,
 "nbformat_minor": 5
}
