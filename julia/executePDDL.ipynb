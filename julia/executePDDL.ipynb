{
 "cells": [
  {
   "cell_type": "code",
   "execution_count": 1,
   "id": "64040704-cb56-4002-8319-8f4d30cca5a6",
   "metadata": {},
   "outputs": [],
   "source": [
    "using Pkg;"
   ]
  },
  {
   "cell_type": "code",
   "execution_count": 2,
   "id": "990bc194-d2b8-4277-b58b-aa71e871ffcf",
   "metadata": {},
   "outputs": [
    {
     "name": "stdout",
     "output_type": "stream",
     "text": [
      "\u001b[32m\u001b[1m   Resolving\u001b[22m\u001b[39m package versions...\n",
      "\u001b[32m\u001b[1m  No Changes\u001b[22m\u001b[39m to `C:\\Users\\maric\\.julia\\environments\\v1.11\\Project.toml`\n",
      "\u001b[32m\u001b[1m  No Changes\u001b[22m\u001b[39m to `C:\\Users\\maric\\.julia\\environments\\v1.11\\Manifest.toml`\n",
      "\u001b[32m\u001b[1m   Resolving\u001b[22m\u001b[39m package versions...\n",
      "\u001b[32m\u001b[1m  No Changes\u001b[22m\u001b[39m to `C:\\Users\\maric\\.julia\\environments\\v1.11\\Project.toml`\n",
      "\u001b[32m\u001b[1m  No Changes\u001b[22m\u001b[39m to `C:\\Users\\maric\\.julia\\environments\\v1.11\\Manifest.toml`\n",
      "\u001b[32m\u001b[1m   Resolving\u001b[22m\u001b[39m package versions...\n",
      "\u001b[32m\u001b[1m  No Changes\u001b[22m\u001b[39m to `C:\\Users\\maric\\.julia\\environments\\v1.11\\Project.toml`\n",
      "\u001b[32m\u001b[1m  No Changes\u001b[22m\u001b[39m to `C:\\Users\\maric\\.julia\\environments\\v1.11\\Manifest.toml`\n",
      "\u001b[32m\u001b[1m   Resolving\u001b[22m\u001b[39m package versions...\n",
      "\u001b[32m\u001b[1m  No Changes\u001b[22m\u001b[39m to `C:\\Users\\maric\\.julia\\environments\\v1.11\\Project.toml`\n",
      "\u001b[32m\u001b[1m  No Changes\u001b[22m\u001b[39m to `C:\\Users\\maric\\.julia\\environments\\v1.11\\Manifest.toml`\n",
      "\u001b[32m\u001b[1m    Updating\u001b[22m\u001b[39m git-repo `https://github.com/JuliaPlanners/SymbolicPlanners.jl`\n",
      "\u001b[32m\u001b[1m   Resolving\u001b[22m\u001b[39m package versions...\n",
      "\u001b[32m\u001b[1m  No Changes\u001b[22m\u001b[39m to `C:\\Users\\maric\\.julia\\environments\\v1.11\\Project.toml`\n",
      "\u001b[32m\u001b[1m  No Changes\u001b[22m\u001b[39m to `C:\\Users\\maric\\.julia\\environments\\v1.11\\Manifest.toml`\n"
     ]
    }
   ],
   "source": [
    "FLAG = true;\n",
    "if ! @isdefined(PDDL) && FLAG\n",
    "    Pkg.add(\"PDDL\")\n",
    "    Pkg.add(\"PDDLViz\")\n",
    "    Pkg.add(\"GLMakie\")\n",
    "    Pkg.add(\"PlanningDomains\")\n",
    "    Pkg.add(url=\"https://github.com/JuliaPlanners/SymbolicPlanners.jl\")\n",
    "else\n",
    "    println(\"Skipped reinstallation\")\n",
    "end;"
   ]
  },
  {
   "cell_type": "code",
   "execution_count": 3,
   "id": "434b1b31-2481-4524-9639-55a4829d5306",
   "metadata": {},
   "outputs": [],
   "source": [
    "using PDDL, PlanningDomains, SymbolicPlanners"
   ]
  },
  {
   "cell_type": "markdown",
   "id": "02b385f8",
   "metadata": {},
   "source": [
    "The basic sushi problem"
   ]
  },
  {
   "cell_type": "code",
   "execution_count": 4,
   "id": "e3ae336e",
   "metadata": {},
   "outputs": [
    {
     "name": "stderr",
     "output_type": "stream",
     "text": [
      "\u001b[32m\u001b[1m   Resolving\u001b[22m\u001b[39m package versions...\n",
      "\u001b[32m\u001b[1m  No Changes\u001b[22m\u001b[39m to `C:\\Users\\maric\\.julia\\environments\\v1.11\\Project.toml`\n",
      "\u001b[32m\u001b[1m  No Changes\u001b[22m\u001b[39m to `C:\\Users\\maric\\.julia\\environments\\v1.11\\Manifest.toml`\n"
     ]
    }
   ],
   "source": [
    "Pkg.add(\"BenchmarkTools\")\n",
    "using BenchmarkTools  # For more precise time measurement (optional)"
   ]
  },
  {
   "cell_type": "code",
   "execution_count": null,
   "id": "e2ff3f83",
   "metadata": {},
   "outputs": [
    {
     "data": {
      "text/plain": [
       "PathSearchSolution{...}\n",
       "  status: :success\n",
       "  plan: 41-element Vector{Term}\n",
       "    (move robot1 ca pa)\n",
       "    (move robot1 pa mixa)\n",
       "    (move robot1 mixa sa)\n",
       "    (pick-up-ingredient robot1 rice sa)\n",
       "    (move robot1 sa mixa)\n",
       "    (drop-ingredient robot1 rice mixa)\n",
       "    (mix robot1 rice mixa)\n",
       "    ⋮\n",
       "    (move robot1 cta mixa)\n",
       "    (move robot1 mixa pa)\n",
       "    (drop-ingredient robot1 fish pa)\n",
       "    (assemble-dish robot1 sushi pa)\n",
       "    (carrying-dish robot1 sushi pa)\n",
       "    (move robot1 pa ca)\n",
       "    (move robot1 ca sva)\n",
       "    (plate-dish robot1 sushi sva)\n",
       "  trajectory: 42-element Vector{GenericState}\n",
       "  expanded: 33413\n",
       "  search_tree: Dict{UInt64, SymbolicPlanners.PathNode{GenericState}} with 34218 entries\n",
       "  search_frontier: DataStructures.PriorityQueue{UInt64, Tuple{Float32, Float32, Int64}, Base.Order.ForwardOrdering} with 833 entries\n",
       "  search_order: 33413-element Vector{UInt64}"
      ]
     },
     "metadata": {},
     "output_type": "display_data"
    }
   ],
   "source": [
    "a_domain = load_domain( \"sushi_simple_domain.pddl\" )\n",
    "a_problem = load_problem( \"sushi_simple_problem.pddl\" )\n",
    "initial = initstate(a_domain, a_problem)\n",
    "the_goals = MinStepsGoal( a_problem ) \n",
    "a_planner = AStarPlanner(HAddR())\n",
    "\n",
    "# Start total time measurement\n",
    "total_time = @elapsed begin\n",
    "    # Start search time measurement\n",
    "    search_time = @elapsed begin\n",
    "        solved = a_planner(a_domain, initial, the_goals)\n",
    "    end\n",
    "end\n",
    "\n",
    "solved"
   ]
  },
  {
   "cell_type": "code",
   "execution_count": 13,
   "id": "d63ed0f4",
   "metadata": {},
   "outputs": [
    {
     "name": "stdout",
     "output_type": "stream",
     "text": [
      "Search Time: 36.0221934\n",
      "Total Time: 36.0221938\n"
     ]
    }
   ],
   "source": [
    "# print the search time and total time\n",
    "println(\"Search Time: \", search_time)\n",
    "println(\"Total Time: \", total_time)\n",
    "\n",
    "# save the steps in a .txt\n",
    "open(\"sushi_simple.txt\", \"w\") do file\n",
    "    for s in collect(solved)\n",
    "        println(file, s)  \n",
    "    end\n",
    "end"
   ]
  },
  {
   "cell_type": "markdown",
   "id": "2c6804cd",
   "metadata": {},
   "source": [
    "The sushi problem with substitution (when one ingredient is missing it can be substitute by another one that is not used)"
   ]
  },
  {
   "cell_type": "code",
   "execution_count": 5,
   "id": "cba0ae2d",
   "metadata": {},
   "outputs": [
    {
     "data": {
      "text/plain": [
       "PathSearchSolution{...}\n",
       "  status: :success\n",
       "  plan: 42-element Vector{Term}\n",
       "    (move robot1 ca pa)\n",
       "    (move robot1 pa mixa)\n",
       "    (move robot1 mixa sa)\n",
       "    (pick-up-ingredient robot1 rice sa sushi)\n",
       "    (move robot1 sa mixa)\n",
       "    (drop-ingredient robot1 rice mixa)\n",
       "    (mix robot1 rice mixa)\n",
       "    ⋮\n",
       "    (move robot1 cta mixa)\n",
       "    (move robot1 mixa pa)\n",
       "    (drop-ingredient robot1 avocado pa)\n",
       "    (assemble-dish robot1 sushi pa)\n",
       "    (carrying-dish robot1 sushi pa)\n",
       "    (move robot1 pa ca)\n",
       "    (move robot1 ca sva)\n",
       "    (plate-dish robot1 sushi sva)\n",
       "  trajectory: 43-element Vector{GenericState}\n",
       "  expanded: 34710\n",
       "  search_tree: Dict{UInt64, SymbolicPlanners.PathNode{GenericState}} with 35541 entries\n",
       "  search_frontier: DataStructures.PriorityQueue{UInt64, Tuple{Float32, Float32, Int64}, Base.Order.ForwardOrdering} with 833 entries\n",
       "  search_order: 34710-element Vector{UInt64}"
      ]
     },
     "metadata": {},
     "output_type": "display_data"
    }
   ],
   "source": [
    "a_domain = load_domain( \"sushi_substitution_domain.pddl\" )\n",
    "a_problem = load_problem( \"sushi_substitution_problem.pddl\" )\n",
    "initial = initstate(a_domain, a_problem)\n",
    "the_goals = MinStepsGoal( a_problem ) \n",
    "a_planner = AStarPlanner(HAddR())\n",
    "\n",
    "# Start total time measurement\n",
    "total_time = @elapsed begin\n",
    "    # Start search time measurement\n",
    "    search_time = @elapsed begin\n",
    "        solved = a_planner(a_domain, initial, the_goals)\n",
    "    end\n",
    "end\n",
    "\n",
    "solved"
   ]
  },
  {
   "cell_type": "code",
   "execution_count": 6,
   "id": "d2ef30ec",
   "metadata": {},
   "outputs": [
    {
     "name": "stdout",
     "output_type": "stream",
     "text": [
      "Search Time: 58.560908\n",
      "Total Time: 58.5609156\n"
     ]
    }
   ],
   "source": [
    "# print the search time and total time\n",
    "println(\"Search Time: \", search_time)\n",
    "println(\"Total Time: \", total_time)\n",
    "\n",
    "# save the steps in a .txt\n",
    "open(\"sushi_substitution.txt\", \"w\") do file\n",
    "    for s in collect(solved)\n",
    "        println(file, s)  \n",
    "    end\n",
    "end"
   ]
  },
  {
   "cell_type": "markdown",
   "id": "8f96dca6",
   "metadata": {},
   "source": [
    "Three orders to be plated, priorization problem"
   ]
  },
  {
   "cell_type": "code",
   "execution_count": 19,
   "id": "3911b02e",
   "metadata": {},
   "outputs": [
    {
     "data": {
      "text/plain": [
       "PathSearchSolution{...}\n",
       "  status: :success\n",
       "  plan: 18-element Vector{Term}\n",
       "    (move robot1 sa mixa)\n",
       "    (move robot1 mixa pa)\n",
       "    (carrying-dish robot1 ramen pa)\n",
       "    (move robot1 pa ca)\n",
       "    (move robot1 ca sva)\n",
       "    (plate-dish robot1 ramen sva)\n",
       "    (move robot1 sva ca)\n",
       "    ⋮\n",
       "    (move robot1 ca sva)\n",
       "    (plate-dish robot1 sushi sva)\n",
       "    (move robot1 sva ca)\n",
       "    (move robot1 ca pa)\n",
       "    (carrying-dish robot1 pho pa)\n",
       "    (move robot1 pa ca)\n",
       "    (move robot1 ca sva)\n",
       "    (plate-dish robot1 pho sva)\n",
       "  trajectory: 19-element Vector{GenericState}\n",
       "  expanded: 2784\n",
       "  search_tree: Dict{UInt64, SymbolicPlanners.PathNode{GenericState}} with 2964 entries\n",
       "  search_frontier: DataStructures.PriorityQueue{UInt64, Tuple{Float32, Float32, Int64}, Base.Order.ForwardOrdering} with 180 entries\n",
       "  search_order: 2784-element Vector{UInt64}"
      ]
     },
     "metadata": {},
     "output_type": "display_data"
    }
   ],
   "source": [
    "a_domain = load_domain( \"fluents_priority_domain.pddl\" )\n",
    "a_problem = load_problem( \"fluents_priority_problem.pddl\" )\n",
    "initial = initstate(a_domain, a_problem)\n",
    "the_goals = MinStepsGoal( a_problem ) \n",
    "a_planner = AStarPlanner(HAddR())\n",
    "\n",
    "# Start total time measurement\n",
    "total_time = @elapsed begin\n",
    "    # Start search time measurement\n",
    "    search_time = @elapsed begin\n",
    "        solved = a_planner(a_domain, initial, the_goals)\n",
    "    end\n",
    "end\n",
    "\n",
    "solved"
   ]
  },
  {
   "cell_type": "code",
   "execution_count": 20,
   "id": "bb68343c",
   "metadata": {},
   "outputs": [
    {
     "name": "stdout",
     "output_type": "stream",
     "text": [
      "Search Time: 0.9147218\n",
      "Total Time: 0.9147222\n"
     ]
    }
   ],
   "source": [
    "# print the search time and total time\n",
    "println(\"Search Time: \", search_time)\n",
    "println(\"Total Time: \", total_time)\n",
    "\n",
    "# save the steps in a .txt\n",
    "open(\"priorization.txt\", \"w\") do file\n",
    "    for s in collect(solved)\n",
    "        println(file, s)  \n",
    "    end\n",
    "end"
   ]
  },
  {
   "cell_type": "code",
   "execution_count": null,
   "id": "0a59472e-cc8e-4c6a-86a7-b4810e20c785",
   "metadata": {},
   "outputs": [],
   "source": [
    "# Sushi counting:\n",
    "a_domain = load_domain( \"ingredients_count_domain.pddl\" )\n",
    "a_problem = load_problem( \"ingredients_count_problem.pddl\" )\n",
    "initial = initstate(a_domain, a_problem)\n",
    "the_goals = MinStepsGoal( a_problem ) \n",
    "a_planner = AStarPlanner(HAddR(),max_nodes=500000)\n",
    "\n",
    "# Start total time measurement\n",
    "total_time = @elapsed begin\n",
    "    # Start search time measurement\n",
    "    search_time = @elapsed begin\n",
    "        solved = a_planner(a_domain, initial, the_goals)\n",
    "    end\n",
    "end\n",
    "\n",
    "solved"
   ]
  },
  {
   "cell_type": "code",
   "execution_count": 19,
   "id": "c04d94a5-eae8-45be-8ba1-b4990a916965",
   "metadata": {},
   "outputs": [],
   "source": [
    "# Open a file for writing\n",
    "open(\"tree.txt\", \"w\") do file\n",
    "    for node in solved.search_order\n",
    "        # Write each line to the file\n",
    "        println(file, \" \", solved.search_tree[node])\n",
    "        println(file, \"\\n\\n\")\n",
    "    end\n",
    "end\n",
    "     "
   ]
  },
  {
   "cell_type": "code",
   "execution_count": null,
   "id": "876b923a-8148-40f9-afd2-981ccccd3e39",
   "metadata": {},
   "outputs": [],
   "source": [
    "# print the search time and total time\n",
    "println(\"Search Time: \", search_time)\n",
    "println(\"Total Time: \", total_time)\n",
    "\n",
    "# save the steps in a .txt\n",
    "open(\"2_dishes.txt\", \"w\") do file\n",
    "    for s in collect(solved)\n",
    "        println(file, s)  \n",
    "    end\n",
    "end"
   ]
  }
 ],
 "metadata": {
  "kernelspec": {
   "display_name": "Julia 1.9.3",
   "language": "julia",
   "name": "julia-1.9"
  },
  "language_info": {
   "file_extension": ".jl",
   "mimetype": "application/julia",
   "name": "julia",
   "version": "1.9.3"
  }
 },
 "nbformat": 4,
 "nbformat_minor": 5
}
