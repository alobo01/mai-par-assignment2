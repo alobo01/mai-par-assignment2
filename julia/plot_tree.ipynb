{
 "cells": [
  {
   "cell_type": "code",
   "execution_count": 1,
   "id": "bae5d538-c685-4a00-92a0-c088c4a5f3fc",
   "metadata": {},
   "outputs": [
    {
     "name": "stderr",
     "output_type": "stream",
     "text": [
      "\u001b[32m\u001b[1m      Active\u001b[22m\u001b[39m manifest files: 1 found\n",
      "\u001b[32m\u001b[1m      Active\u001b[22m\u001b[39m artifact files: 119 found\n",
      "\u001b[32m\u001b[1m      Active\u001b[22m\u001b[39m scratchspaces: 6 found\n",
      "\u001b[32m\u001b[1m     Deleted\u001b[22m\u001b[39m no artifacts, repos, packages or scratchspaces\n"
     ]
    }
   ],
   "source": [
    "using Pkg\n",
    "Pkg.gc()"
   ]
  },
  {
   "cell_type": "code",
   "execution_count": null,
   "id": "bb5a6751-07d6-4623-8058-d510d4539edc",
   "metadata": {},
   "outputs": [],
   "source": [
    "Pkg.add(\"Graphs\")\n",
    "Pkg.add(\"GraphPlot\")\n",
    "Pkg.add(\"Plots\")"
   ]
  },
  {
   "cell_type": "code",
   "execution_count": 2,
   "id": "aca3e017-c357-42c3-8a11-724cea385046",
   "metadata": {},
   "outputs": [
    {
     "name": "stderr",
     "output_type": "stream",
     "text": [
      "\u001b[36m\u001b[1m[ \u001b[22m\u001b[39m\u001b[36m\u001b[1mInfo: \u001b[22m\u001b[39mPrecompiling GraphPlot [a2cc645c-3eea-5389-862e-a155d0052231]\n",
      "\u001b[36m\u001b[1m[ \u001b[22m\u001b[39m\u001b[36m\u001b[1mInfo: \u001b[22m\u001b[39mPrecompiling Plots [91a5bcdd-55d7-5caf-9e0b-520d859cae80]\n",
      "\u001b[36m\u001b[1m[ \u001b[22m\u001b[39m\u001b[36m\u001b[1mInfo: \u001b[22m\u001b[39mPrecompiling IJuliaExt [2f4121a4-3b3a-5ce6-9c5e-1f2673ce168a]\n"
     ]
    }
   ],
   "source": [
    "using Graphs\n",
    "using GraphPlot\n",
    "using Plots"
   ]
  },
  {
   "cell_type": "code",
   "execution_count": null,
   "id": "937190e0-8eca-425c-a36a-4fe9fa87e7fb",
   "metadata": {},
   "outputs": [],
   "source": [
    "# Function to parse the tree structure\n",
    "function parse_tree_data(file_path::String)\n",
    "    nodes = Dict{String, Vector{String}}()  # Dictionary to hold parent-child relationships\n",
    "    parents = Dict{String, String}()         # To track parent nodes\n",
    "    \n",
    "    open(file_path, \"r\") do file\n",
    "        for line in eachline(file\n",
    "            if startswith(line, \"SymbolicPlanners.PathNode\")\n",
    "                # Extract node identifier (e.g., 0xa084eaed7be71401)\n",
    "                node_id = match(r\"0x[a-fA-F0-9]+\", line).match\n",
    "                # Extract parent node id\n",
    "                parent_id_match = match(r\"LinkedNodeRef\\((0x[a-fA-F0-9]+)\", line)\n",
    "                if parent_id_match !== nothing\n",
    "                    parent_id = parent_id_match.captures[1]\n",
    "                    push!(nodes[parent_id], node_id)\n",
    "                    parents[node_id] = parent_id\n",
    "                else\n",
    "                    # Handle root node case if needed\n",
    "                    push!(nodes[\"root\"], node_id)\n",
    "                end\n",
    "            end\n",
    "        end\n",
    "    end\n",
    "    \n",
    "    return nodes, parents\n",
    "end"
   ]
  },
  {
   "cell_type": "code",
   "execution_count": null,
   "id": "7e839497-90eb-4b2d-a8ed-3f4b64d6e868",
   "metadata": {},
   "outputs": [],
   "source": [
    "# Function to create a graph from the parsed data\n",
    "function create_graph(nodes::Dict{String, Vector{String}}, parents::Dict{String, String})\n",
    "    g = SimpleDiGraph()\n",
    "    \n",
    "    # Add vertices\n",
    "    for node_id in keys(nodes)\n",
    "        add_vertex!(g, node_id)\n",
    "    end\n",
    "    \n",
    "    # Add edges\n",
    "    for (parent, children) in nodes\n",
    "        for child in children\n",
    "            add_edge!(g, parent, child)\n",
    "        end\n",
    "    end\n",
    "    \n",
    "    return g\n",
    "end"
   ]
  },
  {
   "cell_type": "code",
   "execution_count": null,
   "id": "7ca10571-857b-484c-bdc4-35c1d0a4708c",
   "metadata": {},
   "outputs": [],
   "source": [
    "# Function to plot the graph and save it as a PNG file\n",
    "function plot_graph(g::SimpleDiGraph, output_file::String)\n",
    "    # Set the layout and colors\n",
    "    layout = GraphPlot.dotlayout(g)\n",
    "    plot(g, layout=layout, node_color=:lightblue, edge_color=:gray, \n",
    "         title=\"Tree Structure\", markersize=10)\n",
    "    \n",
    "    savefig(output_file)\n",
    "end\n"
   ]
  },
  {
   "cell_type": "code",
   "execution_count": null,
   "id": "77828c9a-85d4-4f31-9ac7-53600c5dab3c",
   "metadata": {},
   "outputs": [],
   "source": [
    "# Main function to orchestrate the process\n",
    "function main(file_path::String, output_file::String)\n",
    "    nodes, parents = parse_tree_data(file_path)\n",
    "    g = create_graph(nodes, parents)\n",
    "    plot_graph(g, output_file)\n",
    "end"
   ]
  },
  {
   "cell_type": "code",
   "execution_count": null,
   "id": "4830722b-a4ee-4078-bdb4-83fe459e30f2",
   "metadata": {},
   "outputs": [],
   "source": [
    "# Call the main function with your file path and desired output file\n",
    "main(\"tree_data.txt\", \"tree_graph.png\")"
   ]
  }
 ],
 "metadata": {
  "kernelspec": {
   "display_name": "Julia 1.9.3",
   "language": "julia",
   "name": "julia-1.9"
  },
  "language_info": {
   "file_extension": ".jl",
   "mimetype": "application/julia",
   "name": "julia",
   "version": "1.9.3"
  }
 },
 "nbformat": 4,
 "nbformat_minor": 5
}
